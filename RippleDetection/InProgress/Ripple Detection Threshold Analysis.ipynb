{
 "cells": [
  {
   "cell_type": "code",
   "execution_count": 1,
   "metadata": {
    "collapsed": false
   },
   "outputs": [],
   "source": [
    "import scipy.signal as signal\n",
    "import numpy as np\n",
    "import matplotlib.pyplot as plt\n",
    "%matplotlib inline\n",
    "\n",
    "import seaborn as sns\n",
    "sns.set(rc={'figure.figsize': (12, 4),'lines.linewidth': 2, 'font.size': 18, 'axes.labelsize': 16, 'legend.fontsize': 12, 'ytick.labelsize': 12, 'xtick.labelsize': 12 })\n",
    "sns.set_style('white')\n",
    "\n",
    "import frank_lab\n"
   ]
  },
  {
   "cell_type": "code",
   "execution_count": 2,
   "metadata": {
    "collapsed": false
   },
   "outputs": [],
   "source": [
    "#fileroot = '/Users/ckemere/Development/Data/Frank/Fra';\n",
    "fileroot = 'SampleData/Fra';\n",
    "\n"
   ]
  },
  {
   "cell_type": "code",
   "execution_count": 3,
   "metadata": {
    "collapsed": false
   },
   "outputs": [
    {
     "name": "stdout",
     "output_type": "stream",
     "text": [
      "Loading fracellinfo00.mat\n",
      "Loading fratetinfo.mat\n"
     ]
    }
   ],
   "source": [
    "[cellinfo,rawcellinfo] = frank_lab.load_data(fileroot, datatype='cellinfo')\n",
    "#cellinfo[pd.isnull(cellinfo['area'])]\n",
    "tetinfo,_ = frank_lab.load_data(fileroot, datatype='tetinfo')\n",
    "\n"
   ]
  },
  {
   "cell_type": "code",
   "execution_count": 4,
   "metadata": {
    "collapsed": false
   },
   "outputs": [
    {
     "name": "stdout",
     "output_type": "stream",
     "text": [
      "Loading fratask05.mat\n"
     ]
    },
    {
     "data": {
      "text/plain": [
       "'TrackA'"
      ]
     },
     "execution_count": 4,
     "metadata": {},
     "output_type": "execute_result"
    }
   ],
   "source": [
    "# These are all zero indexed in contrast to their matlab counterparts\n",
    "Day = 4\n",
    "Epoch = 5\n",
    "Tetrode = 9\n",
    "\n",
    "task = frank_lab.load_data(fileroot, day=Day+1, datatype='task')\n",
    "task[Day][Epoch].description\n"
   ]
  },
  {
   "cell_type": "code",
   "execution_count": 5,
   "metadata": {
    "collapsed": false
   },
   "outputs": [
    {
     "name": "stdout",
     "output_type": "stream",
     "text": [
      "Loading fraeeg05-6-10.mat\n"
     ]
    }
   ],
   "source": [
    "\n",
    "# Now, want to generate synthetic data to mimic each tetrode, then detect ripples on them, \n",
    "# then generate the ROC plots using m of N rules\n",
    "\n",
    "eeg = frank_lab.load_data(fileroot, day=Day+1, epoch=Epoch+1, tetrode=Tetrode+1)[Day][Epoch][Tetrode]\n",
    "#eeg.__dict__ to get fields\n",
    "data = eeg.data\n",
    "FS = eeg.samprate\n",
    "StartTime = eeg.starttime\n",
    "TimeAxis = StartTime + np.array(range(len(data))) / FS\n",
    "\n"
   ]
  },
  {
   "cell_type": "code",
   "execution_count": 6,
   "metadata": {
    "collapsed": false
   },
   "outputs": [
    {
     "name": "stdout",
     "output_type": "stream",
     "text": [
      "Loading frapos05.mat\n"
     ]
    }
   ],
   "source": [
    "pos = frank_lab.load_data(fileroot, day=Day+1, datatype='pos')\n"
   ]
  },
  {
   "cell_type": "code",
   "execution_count": 7,
   "metadata": {
    "collapsed": false
   },
   "outputs": [
    {
     "data": {
      "text/plain": [
       "15.266888888888873"
      ]
     },
     "execution_count": 7,
     "metadata": {},
     "output_type": "execute_result"
    }
   ],
   "source": [
    "len(data)/FS/60"
   ]
  },
  {
   "cell_type": "code",
   "execution_count": 27,
   "metadata": {
    "collapsed": false
   },
   "outputs": [],
   "source": [
    "# Maggie defines ripples by doing:\n",
    "#  (1) filter 150-250\n",
    "#  (2) hilbert envelope\n",
    "#  (3) smooth with Gaussian (4 ms SD)\n",
    "#  (4) 3SD above the mean for 15 ms\n",
    "#  (5) full ripple defined as window back to mean\n",
    "\n",
    "import ripples\n",
    "Threshold = 6 # standard deviations above the mean\n",
    "ripple_events, ripple_maxes, ripple_bounds, ripple_data, ripple_envelope, smoothed_envelope = \\\n",
    "    ripples.detect(data, FS=FS, ThresholdSigma=Threshold)\n"
   ]
  },
  {
   "cell_type": "code",
   "execution_count": 9,
   "metadata": {
    "collapsed": false
   },
   "outputs": [
    {
     "data": {
      "text/plain": [
       "(14,)"
      ]
     },
     "execution_count": 9,
     "metadata": {},
     "output_type": "execute_result"
    }
   ],
   "source": [
    "ripple_maxes.shape"
   ]
  },
  {
   "cell_type": "code",
   "execution_count": 28,
   "metadata": {
    "collapsed": false
   },
   "outputs": [],
   "source": [
    "# Generate a colored (i.e., filtered white) noise process with same mean and std as ripples\n",
    "normal_equivalent = np.random.randn(len(ripple_data));\n",
    "b = signal.firwin(25, [150/(FS/2), 250/(FS/2)], pass_zero=False)\n",
    "normal_equivalent_ripple = signal.filtfilt(b,1,normal_equivalent);\n",
    "normal_equivalent_ripple = normal_equivalent_ripple / np.std(normal_equivalent_ripple)\n",
    "normal_equivalent_ripple = normal_equivalent_ripple * np.std(ripple_data);\n",
    "ner_envelope = np.absolute(signal.hilbert(normal_equivalent_ripple))\n",
    "import scipy.ndimage\n",
    "EnvelopeSmoothingSD = 0.004 * FS\n",
    "smoothed_ner_envelope = scipy.ndimage.filters.gaussian_filter1d(ner_envelope, EnvelopeSmoothingSD, mode='constant')\n"
   ]
  },
  {
   "cell_type": "code",
   "execution_count": 19,
   "metadata": {
    "collapsed": false
   },
   "outputs": [
    {
     "data": {
      "text/plain": [
       "<matplotlib.legend.Legend at 0x12f838828>"
      ]
     },
     "execution_count": 19,
     "metadata": {},
     "output_type": "execute_result"
    },
    {
     "data": {
      "image/png": "[encoded data removed]",
      "text/plain": [
       "<matplotlib.figure.Figure at 0x12f63c358>"
      ]
     },
     "metadata": {},
     "output_type": "display_data"
    }
   ],
   "source": [
    "sns.set(rc={'figure.figsize': (5, 4),'lines.linewidth': 2, 'font.size': 18, 'axes.labelsize': 16, 'legend.fontsize': 16, 'ytick.labelsize': 12, 'xtick.labelsize': 12 })\n",
    "sns.set_style('white')\n",
    "\n",
    "\n",
    "# Compare histogram of envelope of synthetic and real ripples\n",
    "# Notice that the distribution of the real ripple data has a long tail (corresponding to actual SWR!)\n",
    "# We plot in terms of z-scores, though the actual numbers are probably also interesting...\n",
    "z_rip_env = (smoothed_envelope - np.mean(smoothed_envelope))/np.std(smoothed_envelope)\n",
    "z_ner_env = (smoothed_ner_envelope - np.mean(smoothed_ner_envelope))/np.std(smoothed_ner_envelope)\n",
    "\n",
    "bins=np.histogram(np.hstack((z_rip_env, z_ner_env)), bins=500)[1]; #get the bin edges\n",
    "h0, b, p0 = plt.hist(z_rip_env,bins, alpha=0.5);\n",
    "h1, b, p1 = plt.hist(z_ner_env, bins, alpha=0.5);\n",
    "plt.plot(bins[0:-1], h0, color=p0[0].get_facecolor(), alpha=1, label='Real')\n",
    "plt.plot(bins[0:-1], h1, color=p1[0].get_facecolor(), alpha=1, label='Synthetic')\n",
    "plt.gca().set_yscale('log')\n",
    "plt.gca().set_xlabel('Z-Scored Ripple Envelope')\n",
    "plt.gca().set_ylabel('Histogram')\n",
    "plt.legend()"
   ]
  },
  {
   "cell_type": "code",
   "execution_count": 34,
   "metadata": {
    "collapsed": false
   },
   "outputs": [
    {
     "name": "stdout",
     "output_type": "stream",
     "text": [
      "(0.098238095238095138, 13.080106612081776, 0.45871185747507182, 4.130540612532589)\n"
     ]
    },
    {
     "data": {
      "text/plain": [
       "<matplotlib.text.Text at 0x12da34128>"
      ]
     },
     "execution_count": 34,
     "metadata": {},
     "output_type": "execute_result"
    },
    {
     "data": {
      "image/png": "[encoded data removed]",
      "text/plain": [
       "<matplotlib.figure.Figure at 0x12da335f8>"
      ]
     },
     "metadata": {},
     "output_type": "display_data"
    }
   ],
   "source": [
    "import numpy as np\n",
    "import scipy.stats\n",
    "def generate_SWR(PeakLevel, ThresholdFraction=0.6, PeriodAboveThreshold=0.015, FS=30000, FRipple=200, nStdDevs=4, PhaseOffset=0) :\n",
    "    sigma = PeriodAboveThreshold/2 / np.sqrt(-2 * np.log(ThresholdFraction))\n",
    "    winSize = round(nStdDevs * sigma * FS)\n",
    "    t = np.arange(-winSize, winSize+1) / FS\n",
    "    envelope = scipy.stats.norm.pdf(t, 0, sigma)\n",
    "    envelope = (envelope/envelope.max()) * PeakLevel\n",
    "    carrier = np.sin(2*np.pi*FRipple*t + PhaseOffset) * envelope\n",
    "    return carrier, t, envelope\n",
    "\n",
    "\n",
    "PeriodAboveThreshold = np.mean(np.diff(ripple_events)) / FS\n",
    "Peak = np.mean(ripple_maxes)\n",
    "#ThresholdFraction = 3  * np.std(smoothed_envelope) / Peak\n",
    "ThresholdFraction = Threshold / (Peak / np.std(smoothed_envelope))\n",
    "print((PeriodAboveThreshold, Peak/np.std(smoothed_envelope), ThresholdFraction, np.std(smoothed_envelope)))\n",
    "\n",
    "x,t, _ = generate_SWR(Peak, ThresholdFraction=ThresholdFraction, PeriodAboveThreshold=PeriodAboveThreshold)\n",
    "\n",
    "plt.plot(1000*t,normal_equivalent_ripple[0:len(t)],alpha=0.5)\n",
    "plt.plot(1000*t,x,alpha=0.5)\n",
    "#x2,t, _ = generate_SWR(Peak, ThresholdFraction=ThresholdFraction, PeriodAboveThreshold=PeriodAboveThreshold, PhaseOffset=np.pi)\n",
    "#plt.plot(t,x2)\n",
    "\n",
    "FakeRipLen = len(x)\n",
    "plt.gca().set_ylabel('voltage (µV)')\n",
    "plt.gca().set_xlabel('time (ms)')"
   ]
  },
  {
   "cell_type": "code",
   "execution_count": null,
   "metadata": {
    "collapsed": true
   },
   "outputs": [],
   "source": [
    "def evaluate_ripple_detection(ActualEvents, PutativeEvents, LargestLatency, AllowNonCausal=False, MaskLockouts=True):\n",
    "    if (AllowNonCausal):\n",
    "        PotentialFalsePositives  = np.array([ActualEvents[k] for k in map(lambda x: (np.abs(ActualEvents - x)).argmin(), PutativeEvents)])\n",
    "        FalsePositives = np.argwhere(np.abs(PutativeEvents - PotentialFalsePositives) > LargestLatency).squeeze()\n",
    "        TruePositives = np.argwhere(np.abs(PutativeEvents - PotentialFalsePositives) <= LargestLatency).squeeze()\n",
    "        \n",
    "        # Get rid of repeats\n",
    "        uniques, counts = np.unique(PotentialFalsePositives[TruePositives], return_counts=True)\n",
    "        Mask = np.ones(TruePositives.shape,dtype=bool)\n",
    "        for i, u in enumerate(uniques):\n",
    "            if(counts[i] > 1):\n",
    "                repeat_idx = np.argwhere(PotentialFalsePositives[TruePositives] == u).squeeze()\n",
    "                best = np.abs(PotentialFalsePositives[TruePositives[repeat_idx]] - PutativeEvents[TruePositives[repeat_idx]]).argmin()\n",
    "                repeat_idx = np.delete(repeat_idx, best)\n",
    "                Mask[repeat_idx] = False          \n",
    "        FalsePositives = np.append(FalsePositives,TruePositives[~Mask])\n",
    "        TruePositives = TruePositives[Mask]\n",
    "\n",
    "\n",
    "        PotentialMisses = np.array([PutativeEvents[k] for k in map(lambda x: (np.abs(PutativeEvents - x)).argmin(), ActualEvents)])\n",
    "        Misses = np.argwhere(np.abs(ActualEvents - PotentialMisses) > LargestLatency)\n",
    "    else:\n",
    "        PotentialFalsePositives  = np.array([ActualEvents[k] for k in map(lambda x: np.where((x - ActualEvents) >= 0, (x - ActualEvents), np.infty).argmin(), PutativeEvents)])\n",
    "        FalsePositives = np.argwhere((PutativeEvents - PotentialFalsePositives > LargestLatency) | \n",
    "                                     (PutativeEvents - PotentialFalsePositives < 0)).squeeze()\n",
    "        TruePositives = np.argwhere((PutativeEvents - PotentialFalsePositives <= LargestLatency) &\n",
    "                                    (PutativeEvents - PotentialFalsePositives > 0)).squeeze()\n",
    "        \n",
    "        # Get rid of repeats\n",
    "        uniques, counts = np.unique(PotentialFalsePositives[TruePositives], return_counts=True)\n",
    "        Mask = np.ones(TruePositives.shape,dtype=bool)\n",
    "        for i, u in enumerate(uniques):\n",
    "            if(counts[i] > 1):\n",
    "                repeat_idx = np.argwhere(PotentialFalsePositives[TruePositives] == u).squeeze()\n",
    "                best = (PutativeEvents[TruePositives[repeat_idx]] - PotentialFalsePositives[TruePositives[repeat_idx]]).argmin()\n",
    "                repeat_idx = np.delete(repeat_idx, best)\n",
    "                Mask[repeat_idx] = False          \n",
    "        FalsePositives = np.append(FalsePositives,TruePositives[~Mask])\n",
    "        TruePositives = TruePositives[Mask]\n",
    "        \n",
    "        # Potentially look for lockout periods that might have blocked detection (in low threshold cases)\n",
    "        # Assuming LockoutPeriod and LargestLatency are the same!!!!!\n",
    "        if (MaskLockouts):\n",
    "            Mask = np.ones(TruePositives.shape,dtype=bool)\n",
    "            for idx,k in enumerate(TruePositives):\n",
    "                if (k > 0):\n",
    "                    # Flag events where the previous putative event was within a lockout period of the actual event\n",
    "                    if ((PotentialFalsePositives[k] - PutativeEvents[k - 1]) < LargestLatency) :\n",
    "                        Mask[idx] = False\n",
    "            FalsePositives = np.append(FalsePositives,TruePositives[~Mask])\n",
    "            TruePositives = TruePositives[Mask]\n",
    "\n",
    "        PotentialMisses = np.array([PutativeEvents[k] for k in map(lambda x: (np.where(PutativeEvents - x >= 0, PutativeEvents - x, np.infty)).argmin(), ActualEvents)])\n",
    "        Misses = np.argwhere(PotentialMisses - ActualEvents > LargestLatency).squeeze()\n",
    "\n",
    "    Latencies = PutativeEvents[TruePositives] - PotentialFalsePositives[TruePositives]\n",
    "    \n",
    "    return FalsePositives, TruePositives, Latencies, Misses\n"
   ]
  },
  {
   "cell_type": "code",
   "execution_count": null,
   "metadata": {
    "collapsed": true
   },
   "outputs": [],
   "source": [
    "# For a given \"SNR\", the hilbert transform version will have some false positives\n",
    "# For real-time versions:\n",
    "#  - compare false positive rate (and misses) to hilbert transform version and ground truth\n",
    "#  - compare detection latency relative to center, hilbert transform peak, and hilbert transform start\n",
    "#\n",
    "# What does realtime look like?\n",
    "# 1.) filter\n",
    "# 2.) abs(value)\n",
    "# 3.) smooth?\n",
    "# 4.) train on std and mean\n",
    "# 5.) detect\n",
    "# 6.) lock out for some period of time and then start again\n",
    "#\n",
    "# Implement 1-3 as a function which takes input and returns output"
   ]
  },
  {
   "cell_type": "code",
   "execution_count": null,
   "metadata": {
    "collapsed": false
   },
   "outputs": [],
   "source": [
    "import numpy as np\n",
    "def ripple_processor(data, FS=1500, TrainingPeriod=120, ThresholdSigma=4, LockoutPeriod=0.25, Algorithm=\"unsmooth\"):\n",
    "    def find_events(d, Thresh, TrainBnd, LckPd):\n",
    "        events = np.argwhere(d > Thresh)\n",
    "        # get rid of events that happened during training\n",
    "        events = events[events >= TrainBnd]\n",
    "        # get rid of events which lie within the Lockout period of previous events\n",
    "        mask = np.ones(len(events), dtype=bool)\n",
    "        last = -LckPd -1\n",
    "        for k, ev in enumerate(events):\n",
    "            if (ev < last + LckPd):\n",
    "                mask[k] = False\n",
    "            else:\n",
    "                last = ev\n",
    "        events = events[mask]\n",
    "        return events\n",
    "\n",
    "    TrBnd = np.rint(TrainingPeriod*FS).astype(int)\n",
    "    LckPd = np.rint(LockoutPeriod*FS)\n",
    "    b, a = scipy.signal.butter(4, [150/(FS/2), 250/(FS/2)], btype='bandpass')\n",
    "    ripple_band = scipy.signal.lfilter(b, a, data) # causal fitler of signal\n",
    "    \n",
    "    if (Algorithm.lower()==\"unsmooth\"):\n",
    "        ripple_signal = np.abs(ripple_band)\n",
    "        mu = np.mean(ripple_signal[:TrBnd])\n",
    "        sd = np.std(ripple_signal[:TrBnd])\n",
    "        ripple_events = find_events(ripple_signal, mu + ThresholdSigma*sd, TrBnd, LckPd)\n",
    "    \n",
    "    elif (Algorithm.lower()==\"smooth\"):\n",
    "        bsmooth, asmooth = scipy.signal.butter(2, 50/(FS/2), btype='lowpass')\n",
    "        ripple_signal = scipy.signal.lfilter(bsmooth, asmooth, np.abs(ripple_band)) #smooth it\n",
    "        mu = np.mean(ripple_signal[:TrBnd])\n",
    "        sd = np.std(ripple_signal[:TrBnd])\n",
    "        ripple_events = find_events(ripple_signal, mu + ThresholdSigma*sd, TrBnd, LckPd)\n",
    "        \n",
    "    elif (Algorithm.lower()==\"hbt\"):\n",
    "        g = np.zeros(20)\n",
    "        gptr = 0\n",
    "        last_stim = 0\n",
    "        def updateGain(d, g, gptr):\n",
    "            mn = g.mean()\n",
    "            g[gptr] = d\n",
    "            gptr = gptr + 1 if (gptr < 19) else 0\n",
    "            return mn, g, gptr\n",
    "        \n",
    "        mu = 0\n",
    "        sd = 0\n",
    "        ripple_events = []\n",
    "        v = np.zeros(ripple_band.shape)\n",
    "        # Algorithm from Jadhav et al Science 2012\n",
    "        for k, x in enumerate(ripple_band):\n",
    "            if (k > 0):\n",
    "                df = x - v[k-1]\n",
    "            else:\n",
    "                df = x\n",
    "\n",
    "            if (df > 0):\n",
    "                gain, g, gptr = updateGain(1.2, g, gptr)\n",
    "                v[k] = v[k-1] + gain * df\n",
    "            else:\n",
    "                _, g, gptr = updateGain(2.0, g, gptr)\n",
    "                v[k] = v[k-1] + 2.0 * df\n",
    "                \n",
    "            mu = mu + (x - mu) / 10000\n",
    "            sd = (np.abs(x - mu) - sd) / 10000 + sd\n",
    "            if ((k > TrBnd) & ((k-last_stim) > LckPd)) :\n",
    "                if (v[k] > mu + ThresholdSigma*sd) :\n",
    "                    ripple_events.append(k)\n",
    "                    last_stim = k\n",
    "        ripple_events = np.array(ripple_events)\n",
    "        ripple_signal = v\n",
    "    else:\n",
    "        raise ValueError(\"Unknown algorithm specified\")\n",
    "    \n",
    "    return ripple_events, ripple_signal, mu, sd, ripple_band"
   ]
  },
  {
   "cell_type": "code",
   "execution_count": null,
   "metadata": {
    "collapsed": false
   },
   "outputs": [],
   "source": [
    "\n",
    "Threshold = 3.5 # standard deviations above the mean\n",
    "ripple_events, ripple_maxes, ripple_bounds, ripple_data, ripple_envelope, smoothed_envelope = \\\n",
    "    ripples.detect(data, FS=FS, ThresholdSigma=Threshold)\n",
    "\n",
    "PeriodAboveThreshold = np.mean(np.diff(ripple_events)) / FS\n",
    "Peak = np.mean(ripple_maxes)\n",
    "ThresholdFraction = Threshold / (Peak / np.std(smoothed_envelope))\n",
    "print((len(ripple_maxes), PeriodAboveThreshold, Peak, ThresholdFraction))\n",
    "   \n",
    "NRipsToAdd = 150 # len(ripple_maxes)\n",
    "PhaseOffsets = np.random.rand(NRipsToAdd)*2*np.pi\n",
    "EdgeExclude = FS*10\n",
    "RippleInsertionIdx = np.rint(np.linspace(EdgeExclude, len(normal_equivalent_ripple) - EdgeExclude, NRipsToAdd))\n",
    "\n",
    "added_ripples = normal_equivalent_ripple.copy()\n",
    "for k in range(NRipsToAdd):\n",
    "    x,t, _ = generate_SWR(Peak, ThresholdFraction=ThresholdFraction, \n",
    "                          PeriodAboveThreshold=PeriodAboveThreshold,\n",
    "                          PhaseOffset=PhaseOffsets[k])\n",
    "    added_ripples[(np.rint(t * FS) + RippleInsertionIdx[k]).astype(int)] += x\n",
    "    \n",
    "\n",
    "fake_ripple_bounds, fake_ripple_maxes, fake_ripple_events, fake_ripple_data, fake_ripple_envelope, fake_smoothed_envelope = \\\n",
    "    ripples.detect(added_ripples, FS=FS, ThresholdSigma=Threshold)\n",
    "\n",
    "print('Number of ripples injected: {:4d}. Number detected: {:4d}.'.format(NRipsToAdd, len(fake_ripple_maxes)))\n",
    "\n",
    "# Compare histogram of envelope of synthetic and real ripples\n",
    "# Notice that the distribution of the real ripple data has a long tail (corresponding to actual SWR!)\n",
    "\n",
    "#bins=np.histogram(np.hstack((smoothed_envelope,fake_smoothed_envelope)), bins=500)[1]; #get the bin edges\n",
    "#plt.hist(smoothed_envelope,bins);\n",
    "#plt.hist(fake_smoothed_envelope, bins);\n",
    "#plt.gca().set_yscale('log')\n",
    "\n"
   ]
  },
  {
   "cell_type": "code",
   "execution_count": null,
   "metadata": {
    "collapsed": true
   },
   "outputs": [],
   "source": [
    "\n",
    "\n",
    "LargestLatency = 0.25 * FS\n",
    "FalsePositives, TruePositives, Latencies, Misses = evaluate_ripple_detection(RippleInsertionIdx, \n",
    "                                        fake_ripple_bounds[:,0], \n",
    "                                        LargestLatency,\n",
    "                                        AllowNonCausal=True)\n",
    "TrainingPeriod = 120\n",
    "\n",
    "NonTrainingRipTimes = fake_ripple_bounds[TruePositives,0]\n",
    "NonTrainingRipTimes = NonTrainingRipTimes[NonTrainingRipTimes > TrainingPeriod*FS]\n",
    "\n"
   ]
  },
  {
   "cell_type": "code",
   "execution_count": null,
   "metadata": {
    "collapsed": false
   },
   "outputs": [],
   "source": [
    "t = np.array(range(len(added_ripples)))/FS\n",
    "plt.plot(t, added_ripples)\n",
    "plt.plot(t, fake_ripple_envelope)\n",
    "print(\"Mean fake rippe envelope = {}\".format(np.mean(fake_ripple_envelope)))\n",
    "#plt.stem(rip_evs, (m+5*s)*np.ones(len(rip_evs)))\n",
    "rip_bnds = np.zeros(len(added_ripples))\n",
    "for bnd in fake_ripple_bounds:\n",
    "    rip_bnds[bnd[0]:bnd[1]] = 1;\n",
    "plt.plot(t, rip_bnds*3*np.std(fake_ripple_envelope))\n",
    "rip_bnds2 = np.zeros(len(added_ripples))\n",
    "for bnd in fake_ripple_events:\n",
    "    rip_bnds2[bnd[0]:bnd[1]] = 1;\n",
    "plt.plot(t, rip_bnds2*40)\n",
    "\n",
    "\n",
    "#plt.stem(RippleInsertionIdx, 20*np.ones(len(RippleInsertionIdx)),'y')\n",
    "\n",
    "rip_evs,ripple_signal,m,s,filt_rip = ripple_processor(added_ripples, ThresholdSigma=3.5, TrainingPeriod=TrainingPeriod)\n",
    "fps, tps, latencies, _  = evaluate_ripple_detection(NonTrainingRipTimes, rip_evs, LargestLatency)\n",
    "plt.stem(rip_evs[tps]/FS, 20*np.ones(len(tps)),'g',linewidth=2)\n",
    "\n",
    "plt.gca().set_xlim([fake_ripple_bounds[21,1]/FS-0.25,fake_ripple_bounds[21,1]/FS+0.25])\n",
    "\n",
    "plt.show()"
   ]
  },
  {
   "cell_type": "code",
   "execution_count": null,
   "metadata": {
    "collapsed": false
   },
   "outputs": [],
   "source": [
    "for j in fake_ripple_bounds:\n",
    "    print(j)\n",
    "    break"
   ]
  },
  {
   "cell_type": "code",
   "execution_count": null,
   "metadata": {
    "collapsed": false
   },
   "outputs": [],
   "source": [
    "#import scipy.io.wavfile\n",
    "#from scipy import interpolate\n",
    "\n",
    "# (Threshold = 6)\n",
    "#t = np.linspace(0,501,FS*501,endpoint=False)\n",
    "#f = interpolate.interp1d(t,added_ripples[:FS*501])\n",
    "#t2  = np.linspace(0,500,8000*500,endpoint=False)\n",
    "#upsamprips = f(t2)\n",
    "\n",
    "#scipy.io.wavfile.write(\"test.wav\",8000,(upsamprips*100).astype(np.int16))"
   ]
  },
  {
   "cell_type": "code",
   "execution_count": null,
   "metadata": {
    "collapsed": false
   },
   "outputs": [],
   "source": [
    "\n",
    "ThresholdSigmas = np.arange(1,9,0.25)\n",
    "FalsePositives = np.zeros((len(ThresholdSigmas),3))\n",
    "DetectedRipples = np.zeros((len(ThresholdSigmas),3))\n",
    "MeanLatencies = np.zeros((len(ThresholdSigmas),3))\n",
    "StdLatencies = np.zeros((len(ThresholdSigmas),3))\n",
    "for i,ts in enumerate(ThresholdSigmas):\n",
    "    print(ts)\n",
    "    rip_evs,ripple_signal,m,s,filt_rip = ripple_processor(added_ripples, ThresholdSigma=ts, TrainingPeriod=TrainingPeriod)\n",
    "    fps, tps, latencies, _  = evaluate_ripple_detection(NonTrainingRipTimes, rip_evs, LargestLatency)\n",
    "    FalsePositives[i,0] = len(fps)\n",
    "    DetectedRipples[i,0] = len(tps)\n",
    "    MeanLatencies[i,0] = np.mean(latencies)\n",
    "    StdLatencies[i,0] = np.std(latencies)\n",
    "\n",
    "    rip_evs,ripple_signal,m,s,filt_rip = ripple_processor(added_ripples, ThresholdSigma=ts, \n",
    "                                                          TrainingPeriod=TrainingPeriod, Algorithm=\"smooth\")\n",
    "    fps, tps, latencies, _  = evaluate_ripple_detection(NonTrainingRipTimes, rip_evs, LargestLatency)\n",
    "    FalsePositives[i,1] = len(fps)\n",
    "    DetectedRipples[i,1] = len(tps)\n",
    "    MeanLatencies[i,1] = np.mean(latencies)\n",
    "    StdLatencies[i,1] = np.std(latencies)\n",
    "\n",
    "    rip_evs,ripple_signal,m,s,filt_rip = ripple_processor(added_ripples, ThresholdSigma=ts, \n",
    "                                                          TrainingPeriod=TrainingPeriod, Algorithm=\"hbt\")\n",
    "    fps, tps, latencies, _  = evaluate_ripple_detection(NonTrainingRipTimes, rip_evs, LargestLatency)\n",
    "    FalsePositives[i,2] = len(fps)\n",
    "    DetectedRipples[i,2] = len(tps)\n",
    "    MeanLatencies[i,2] = np.mean(latencies)\n",
    "    StdLatencies[i,2] = np.std(latencies)\n",
    "   \n",
    "\n"
   ]
  },
  {
   "cell_type": "code",
   "execution_count": null,
   "metadata": {
    "collapsed": false
   },
   "outputs": [],
   "source": [
    "\n",
    "params = {'mathtext.default': 'regular' }          \n",
    "plt.rcParams.update(params)\n",
    "\n",
    "miss_rate = plt.plot(MeanLatencies/FS, 1-DetectedRipples/len(NonTrainingRipTimes))\n",
    "false_pos = plt.plot(MeanLatencies/FS, FalsePositives/len(NonTrainingRipTimes))\n",
    "plt.legend(miss_rate+false_pos, ['$Miss_{abs}$', '$Miss_{smooth}$', \n",
    "                                 '$Miss_{hbt}$','$FP_{abs}$', '$FP_{smooth}$', '$FP_{hbt}$'])\n",
    "plt.plot(np.mean(fake_ripple_events[RippleInsertionIdx > TrainingPeriod*FS,0]- NonTrainingRipTimes)*np.ones(2)/FS,[0,1],':')\n",
    "plt.gca().set_ylim([0,0.1])\n",
    "plt.gca().set_xlim([20/FS,140/FS])\n",
    "plt.show()\n"
   ]
  },
  {
   "cell_type": "code",
   "execution_count": null,
   "metadata": {
    "collapsed": false
   },
   "outputs": [],
   "source": [
    "plt.plot(ThresholdSigmas, 1-DetectedRipples/len(NonTrainingRipTimes))\n",
    "plt.gca().set_ylim([0,0.1])"
   ]
  },
  {
   "cell_type": "code",
   "execution_count": null,
   "metadata": {
    "collapsed": true
   },
   "outputs": [],
   "source": []
  },
  {
   "cell_type": "code",
   "execution_count": null,
   "metadata": {
    "collapsed": true
   },
   "outputs": [],
   "source": []
  }
 ],
 "metadata": {
  "kernelspec": {
   "display_name": "Python 3",
   "language": "python",
   "name": "python3"
  },
  "language_info": {
   "codemirror_mode": {
    "name": "ipython",
    "version": 3
   },
   "file_extension": ".py",
   "mimetype": "text/x-python",
   "name": "python",
   "nbconvert_exporter": "python",
   "pygments_lexer": "ipython3",
   "version": "3.5.1"
  }
 },
 "nbformat": 4,
 "nbformat_minor": 0
}
