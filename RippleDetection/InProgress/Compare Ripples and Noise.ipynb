{
 "cells": [
  {
   "cell_type": "code",
   "execution_count": 1,
   "metadata": {
    "collapsed": false
   },
   "outputs": [],
   "source": [
    "import scipy.signal as signal\n",
    "import numpy as np\n",
    "import matplotlib.pyplot as plt\n",
    "%matplotlib inline\n",
    "\n",
    "import seaborn as sns\n",
    "sns.set(rc={'figure.figsize': (12, 4),'lines.linewidth': 2, 'font.size': 18, 'axes.labelsize': 16, 'legend.fontsize': 12, 'ytick.labelsize': 12, 'xtick.labelsize': 12 })\n",
    "sns.set_style('white')\n",
    "\n",
    "import frank_lab\n"
   ]
  },
  {
   "cell_type": "code",
   "execution_count": 2,
   "metadata": {
    "collapsed": false
   },
   "outputs": [],
   "source": [
    "fileroot = '/Users/ckemere/Development/Data/Frank/Fra';\n"
   ]
  },
  {
   "cell_type": "code",
   "execution_count": 3,
   "metadata": {
    "collapsed": false
   },
   "outputs": [
    {
     "name": "stdout",
     "output_type": "stream",
     "text": [
      "Loading fracellinfo00.mat\n",
      "Loading fratetinfo.mat\n"
     ]
    }
   ],
   "source": [
    "[cellinfo,rawcellinfo] = frank_lab.load_data(fileroot, datatype='cellinfo')\n",
    "#cellinfo[pd.isnull(cellinfo['area'])]\n",
    "tetinfo,_ = frank_lab.load_data(fileroot, datatype='tetinfo')\n",
    "\n"
   ]
  },
  {
   "cell_type": "code",
   "execution_count": 4,
   "metadata": {
    "collapsed": false
   },
   "outputs": [
    {
     "name": "stdout",
     "output_type": "stream",
     "text": [
      "Loading fratask05.mat\n"
     ]
    },
    {
     "data": {
      "text/plain": [
       "'TrackB'"
      ]
     },
     "execution_count": 4,
     "metadata": {},
     "output_type": "execute_result"
    }
   ],
   "source": [
    "# These are all zero indexed in contrast to their matlab counterparts\n",
    "Day = 4\n",
    "Epoch = 3\n",
    "\n",
    "TetrodeList = tetinfo.loc[tetinfo.Day==Day].loc[tetinfo.Epoch==Epoch].loc[tetinfo.area=='CA1'].Tetrode.tolist()\n",
    "\n",
    "Tetrode = 9\n",
    "#Tetrode = 0\n",
    "\n",
    "task = frank_lab.load_data(fileroot, day=Day+1, datatype='task')\n",
    "task[Day][Epoch].description\n"
   ]
  },
  {
   "cell_type": "code",
   "execution_count": 5,
   "metadata": {
    "collapsed": false
   },
   "outputs": [
    {
     "name": "stdout",
     "output_type": "stream",
     "text": [
      "[0, 13, 5, 8, 9]\n",
      "            Tetrode  numcells  depth  Day area  Epoch  maxcell  representative\n",
      "(4, 3, 0)         0         6    123    4  CA1      3      NaN             NaN\n",
      "(4, 3, 13)       13         2    111    4  CA1      3      NaN             NaN\n",
      "(4, 3, 5)         5         0     99    4  CA1      3      NaN             NaN\n",
      "(4, 3, 8)         8         1    114    4  CA1      3      NaN             NaN\n",
      "(4, 3, 9)         9        11     98    4  CA1      3        1               1\n"
     ]
    }
   ],
   "source": [
    "print(TetrodeList)\n",
    "print(tetinfo.loc[tetinfo.Day==Day].loc[tetinfo.Epoch==Epoch].loc[tetinfo.area=='CA1'])\n"
   ]
  },
  {
   "cell_type": "code",
   "execution_count": 6,
   "metadata": {
    "collapsed": false
   },
   "outputs": [
    {
     "name": "stdout",
     "output_type": "stream",
     "text": [
      "Loading fraeeg05-4-01.mat\n"
     ]
    }
   ],
   "source": [
    "eeg = frank_lab.load_data(fileroot, day=Day+1, epoch=Epoch+1, tetrode=1, version='new')"
   ]
  },
  {
   "cell_type": "code",
   "execution_count": 7,
   "metadata": {
    "collapsed": false
   },
   "outputs": [
    {
     "name": "stdout",
     "output_type": "stream",
     "text": [
      "Loading fraeeg05-4-01.mat\n",
      "Loading fraeeg05-4-14.mat\n",
      "Loading fraeeg05-4-06.mat\n",
      "Loading fraeeg05-4-09.mat\n",
      "Loading fraeeg05-4-10.mat\n",
      "Loading fraeeg05-4-01.mat\n"
     ]
    }
   ],
   "source": [
    "\n",
    "# Now, want to generate synthetic data to mimic each tetrode, then detect ripples on them, \n",
    "# then generate the ROC plots using m of N rules\n",
    "data = [frank_lab.load_data(fileroot, day=Day+1, epoch=Epoch+1, tetrode=t+1, version='new').data for t in TetrodeList]\n",
    "\n",
    "eeg = frank_lab.load_data(fileroot, day=Day+1, epoch=Epoch+1, tetrode=TetrodeList[0]+1, version='new')\n",
    "#eeg.__dict__ to get fields\n",
    "#data = eeg.data\n",
    "FS = eeg.samprate\n",
    "StartTime = eeg.starttime\n",
    "TimeAxis = StartTime + np.array(range(len(data))) / FS\n",
    "\n"
   ]
  },
  {
   "cell_type": "code",
   "execution_count": 8,
   "metadata": {
    "collapsed": false
   },
   "outputs": [
    {
     "name": "stdout",
     "output_type": "stream",
     "text": [
      "Loading frapos05.mat\n"
     ]
    }
   ],
   "source": [
    "pos = frank_lab.load_data(fileroot, day=Day+1, datatype='pos')\n"
   ]
  },
  {
   "cell_type": "code",
   "execution_count": 9,
   "metadata": {
    "collapsed": false
   },
   "outputs": [],
   "source": [
    "# Maggie defines ripples by doing:\n",
    "#  (1) filter 150-250\n",
    "#  (2) hilbert envelope\n",
    "#  (3) smooth with Gaussian (4 ms SD)\n",
    "#  (4) 3SD above the mean for 15 ms\n",
    "#  (5) full ripple defined as window back to mean\n",
    "\n",
    "import ripples\n",
    "RippleEvents = []\n",
    "RippleSignal = []\n",
    "SmoothedRippleEnvelope = []\n",
    "for d in data:\n",
    "    ripple_events, ripple_maxes, ripple_bounds, ripple_data, ripple_envelope, smoothed_envelope = \\\n",
    "        ripples.detect(d, FS=FS, ThresholdSigma=5)\n",
    "    RippleEvents.append(ripple_events)\n",
    "    RippleSignal.append(ripple_data)\n",
    "    SmoothedRippleEnvelope.append(smoothed_envelope)\n"
   ]
  },
  {
   "cell_type": "code",
   "execution_count": 10,
   "metadata": {
    "collapsed": false
   },
   "outputs": [
    {
     "data": {
      "text/plain": [
       "(10,)"
      ]
     },
     "execution_count": 10,
     "metadata": {},
     "output_type": "execute_result"
    }
   ],
   "source": [
    "ripple_maxes.shape"
   ]
  },
  {
   "cell_type": "code",
   "execution_count": 11,
   "metadata": {
    "collapsed": false
   },
   "outputs": [
    {
     "data": {
      "image/png": "[encoded data removed]",
      "text/plain": [
       "<matplotlib.figure.Figure at 0x108fd4ef0>"
      ]
     },
     "metadata": {},
     "output_type": "display_data"
    }
   ],
   "source": [
    "hist, bins = np.histogram(ripple_maxes/np.mean(smoothed_envelope), bins=20)\n",
    "width = 0.7 * (bins[1] - bins[0])\n",
    "center = (bins[:-1] + bins[1:]) / 2\n",
    "\n",
    "plt.bar(center, hist, align='center', width=width)\n",
    "plt.show()\n"
   ]
  },
  {
   "cell_type": "code",
   "execution_count": 12,
   "metadata": {
    "collapsed": false
   },
   "outputs": [],
   "source": [
    "import scipy.ndimage\n",
    "EnvelopeSmoothingSD = 0.004 * FS\n",
    "b = signal.firwin(25, [150/(FS/2), 250/(FS/2)], pass_zero=False)\n",
    "\n",
    "SynthRippleEnvelope = []\n",
    "\n",
    "for k, r in enumerate(RippleSignal):\n",
    "    # Generate a colored (i.e., filtered white) noise process with same mean and std as ripples\n",
    "    normal_equivalent = np.random.randn(len(r));\n",
    "    normal_equivalent_ripple = signal.filtfilt(b,1,normal_equivalent);\n",
    "    normal_equivalent_ripple = normal_equivalent_ripple / np.std(normal_equivalent_ripple)\n",
    "    normal_equivalent_ripple = normal_equivalent_ripple * np.std(r);\n",
    "    ner_envelope = np.absolute(signal.hilbert(normal_equivalent_ripple))\n",
    "    SynthRippleEnvelope.append(scipy.ndimage.filters.gaussian_filter1d(ner_envelope, EnvelopeSmoothingSD, mode='constant'))\n",
    "\n",
    "    "
   ]
  },
  {
   "cell_type": "code",
   "execution_count": 13,
   "metadata": {
    "collapsed": false
   },
   "outputs": [
    {
     "data": {
      "image/png": "[encoded data removed]",
      "text/plain": [
       "<matplotlib.figure.Figure at 0x108f97e80>"
      ]
     },
     "metadata": {},
     "output_type": "display_data"
    }
   ],
   "source": [
    "sns.set(rc={'figure.figsize': (8, 18),'lines.linewidth': 2, 'font.size': 18, 'axes.labelsize': 16, 'legend.fontsize': 12, 'ytick.labelsize': 12, 'xtick.labelsize': 12 })\n",
    "sns.set_style('white')\n",
    "\n",
    "from matplotlib import gridspec\n",
    "gs = gridspec.GridSpec(len(TetrodeList), 1); \n",
    "firstsubplot = plt.subplot(gs[0])\n",
    "\n",
    "NormalizedRipple = [(r - np.mean(r))/np.std(r) for r in SmoothedRippleEnvelope]\n",
    "NormalizedSynth = [(r - np.mean(r))/np.std(r) for r in SynthRippleEnvelope]\n",
    "\n",
    "for k, (r,s) in enumerate(zip(NormalizedRipple, NormalizedSynth)):\n",
    "    # Compare histogram of envelope of synthetic and real ripples\n",
    "    # Notice that the distribution of the real ripple data has a long tail (corresponding to actual SWR!)\n",
    "    # We plot in terms of z-scores, though the actual numbers are probably also interesting...\n",
    "    if (k > 0):\n",
    "        plt.subplot(gs[k], sharex=firstsubplot)\n",
    "    else:\n",
    "        firstsubplot = plt.subplot(gs[k])\n",
    "\n",
    "    \n",
    "    bins=np.histogram(np.hstack((r, s)), bins=500)[1]; #get the bin edges\n",
    "    h0, b, p0 = plt.hist(r,bins, alpha=0.5);\n",
    "    h1, b, p1 = plt.hist(s, bins, alpha=0.5);\n",
    "    plt.plot(bins[0:-1], h0, color=p0[0].get_facecolor(), alpha=1)\n",
    "    plt.plot(bins[0:-1], h1, color=p1[0].get_facecolor(), alpha=1)\n",
    "    plt.gca().set_yscale('log')\n"
   ]
  },
  {
   "cell_type": "code",
   "execution_count": 14,
   "metadata": {
    "collapsed": false
   },
   "outputs": [
    {
     "name": "stdout",
     "output_type": "stream",
     "text": [
      "7.08902961925e-05\n"
     ]
    },
    {
     "data": {
      "image/png": "[encoded data removed]",
      "text/plain": [
       "<matplotlib.figure.Figure at 0x140510518>"
      ]
     },
     "metadata": {},
     "output_type": "display_data"
    }
   ],
   "source": [
    "# What happens if we create a 15 ms sliding window. What is the histogram of the smallest z-scored smoothed envelope?\n",
    "# The idea here is that a \"ripple event\" is defined as being greater than 3 SDs for 15 ms...\n",
    "import scipy.ndimage\n",
    "rip_window_mins = scipy.ndimage.filters.minimum_filter(NormalizedRipple[0], size=np.rint(FS*0.015), mode='reflect')\n",
    "ner_window_mins = scipy.ndimage.filters.minimum_filter(NormalizedSynth[0], size=np.rint(FS*0.015), mode='reflect')\n",
    "\n",
    "sns.set(rc={'figure.figsize': (12,6),'lines.linewidth': 2, 'font.size': 18, 'axes.labelsize': 16, 'legend.fontsize': 12, 'ytick.labelsize': 12, 'xtick.labelsize': 12 })\n",
    "sns.set_style('white')\n",
    "\n",
    "\n",
    "bins=np.histogram(np.hstack((rip_window_mins, ner_window_mins)), bins=500)[1]; #get the bin edges\n",
    "h0, b, p0 = plt.hist(rip_window_mins,bins, alpha=0.5);\n",
    "h1, b, p1 = plt.hist(ner_window_mins, bins, alpha=0.5);\n",
    "plt.gca().set_yscale('log')\n",
    "\n",
    "print(sum(ner_window_mins > 3)/len(ner_window_mins))"
   ]
  },
  {
   "cell_type": "code",
   "execution_count": 15,
   "metadata": {
    "collapsed": false
   },
   "outputs": [],
   "source": [
    "#plt.plot(data[-FS*3:-1])\n",
    "#print(rip_events[-1,:])\n",
    "#print(data.shape[0])"
   ]
  },
  {
   "cell_type": "code",
   "execution_count": 16,
   "metadata": {
    "collapsed": false
   },
   "outputs": [
    {
     "data": {
      "text/plain": [
       "(0,)"
      ]
     },
     "execution_count": 16,
     "metadata": {},
     "output_type": "execute_result"
    }
   ],
   "source": [
    "np.array([]).shape"
   ]
  },
  {
   "cell_type": "code",
   "execution_count": 49,
   "metadata": {
    "collapsed": false
   },
   "outputs": [
    {
     "name": "stdout",
     "output_type": "stream",
     "text": [
      "2.0\n",
      "2 of 5 tetrodes\n"
     ]
    }
   ],
   "source": [
    "import functools\n",
    "# Let's see what the \"true positive\" (i.e., number detected) and \"false positive\" rates are\n",
    "# when we try different thresholds and window sizes\n",
    "\n",
    "IntersectRule = 1 # Ripples can be on any tetrode\n",
    "\n",
    "ExcursionWindows = np.arange(0.005,0.035,0.0025)\n",
    "Thresholds = np.arange(2,7.25,0.25)\n",
    "\n",
    "rip_counts = np.zeros((len(ExcursionWindows),len(Thresholds)))\n",
    "rip_3vel_counts = np.zeros((len(ExcursionWindows),len(Thresholds)))\n",
    "rip_10vel_counts = np.zeros((len(ExcursionWindows),len(Thresholds)))\n",
    "\n",
    "ner_counts = np.zeros((len(ExcursionWindows),len(Thresholds)))\n",
    "for i, Thr in enumerate(Thresholds):\n",
    "    print(Thr)\n",
    "    RipEvents = [ripples.find_threshold_crossing_events(r, Thr)[0] for r in NormalizedRipple]\n",
    "    SynthEvents = [ripples.find_threshold_crossing_events(r, Thr)[0] for r in NormalizedSynth]\n",
    "\n",
    "    def intersect(r, s):\n",
    "        if ((r[1] < s[0]) | (s[1] < r[0])):\n",
    "            return np.array([])\n",
    "        else:\n",
    "            return np.array([np.min([r[0], s[0]]), np.max([r[1], s[1]])])\n",
    "    \n",
    "    UnionRipEvents = RipEvents[0]\n",
    "    UnionRipCounts = np.ones(RipEvents[0].shape[0])\n",
    "    for i, E1 in enumerate(RipEvents[1:]):\n",
    "        print(\"{} of {} tetrodes\".format(i+2, len(RipEvents)))\n",
    "        for k, r in enumerate(UnionRipEvents) :\n",
    "            intersections = np.array([intersect(e, r) for e in E1])\n",
    "            mask = np.array([(a.size == 0) for a in intersections])\n",
    "            intersections = intersections[~mask]\n",
    "            if len(intersections) > 0:\n",
    "                UnionRipEvents[k,:] = functools.reduce(intersect, intersections)\n",
    "                UnionRipCounts[k] = UnionRipCounts[k] + 1\n",
    "            UnionRipEvents = np.vstack([UnionRipEvents, E1[mask,:]])\n",
    "            UnionRipCounts = np.append(UnionRipCounts, np.ones(np.sum(mask)))                \n",
    "            \n",
    "#    for j, Win in enumerate(ExcursionWindows):\n",
    "#        if (len(rip_events) > 0):\n",
    "#            N,_ = rip_events.shape\n",
    "#            idx = rip_events[:,1] - rip_events[:,0] >= np.round(FS*Win)\n",
    "#            rip_counts[j,i] = np.sum(idx)\n",
    "#            rip_center_times = TimeAxis[np.rint((rip_events[idx,0] + rip_events[idx,1])/2).astype(int)]\n",
    "#            RipIdx = np.searchsorted(pos[Day][Epoch].data[:,0], rip_center_times)\n",
    "#            RipIdx[RipIdx > pos[Day][Epoch].data.shape[0]-1] = pos[Day][Epoch].data.shape[0]-1\n",
    "#            rip_vels = pos[Day][Epoch].data[RipIdx,-1]\n",
    "#            rip_3vel_counts[j,i] = np.sum(rip_vels > 3)\n",
    "#            rip_10vel_counts[j,i] = np.sum(rip_vels > 10)\n",
    "#        if (len(ner_events) > 0):\n",
    "#            M,_ = ner_events.shape\n",
    "#            ner_counts[j,i] = np.sum(ner_events[:,1] - ner_events[:,0] >= np.round(FS*Win))\n",
    "        \n",
    "\n"
   ]
  },
  {
   "cell_type": "code",
   "execution_count": 50,
   "metadata": {
    "collapsed": false
   },
   "outputs": [
    {
     "data": {
      "text/plain": [
       "(12187550,)"
      ]
     },
     "execution_count": 50,
     "metadata": {},
     "output_type": "execute_result"
    }
   ],
   "source": [
    "UnionRipCounts.shape"
   ]
  },
  {
   "cell_type": "code",
   "execution_count": null,
   "metadata": {
    "collapsed": false
   },
   "outputs": [],
   "source": [
    "from matplotlib import gridspec\n",
    "import pandas as pd\n",
    "sns.set_style('dark')\n",
    "sns.set(rc={'figure.figsize': (12, 9),'lines.linewidth': 2, 'font.size': 18, 'axes.labelsize': 16, 'legend.fontsize': 12, 'ytick.labelsize': 12, 'xtick.labelsize': 12 })\n",
    "\n",
    "\n",
    "\n",
    "gs = gridspec.GridSpec(2, 2); \n",
    "realrips = plt.subplot(gs[0]);\n",
    "realdf = pd.DataFrame(rip_counts / (len(data)/FS), index=ExcursionWindows, columns=Thresholds)\n",
    "sns.heatmap(realdf, xticklabels=2, yticklabels=2, cmap='RdYlBu', vmin=0, vmax=2, linewidths=.05, mask=realdf<=0.0);\n",
    "plt.yticks(rotation=0);\n",
    "\n",
    "\n",
    "fakerips = plt.subplot(gs[1]);\n",
    "fakedf = pd.DataFrame(ner_counts / (len(data)/FS), index=ExcursionWindows, columns=Thresholds)\n",
    "sns.heatmap(fakedf, xticklabels=2, yticklabels=2, cmap='RdYlBu', vmin=0, vmax=2, linewidths=.05, mask=fakedf<=0.0);\n",
    "plt.yticks(rotation=0);\n",
    "\n",
    "\n",
    "ripvels = plt.subplot(gs[2]);\n",
    "vel3df = pd.DataFrame(rip_3vel_counts / rip_counts, index=ExcursionWindows, columns=Thresholds)\n",
    "sns.heatmap(vel3df, linewidths=.05, xticklabels=2, yticklabels=2, vmax=0.5, cmap='RdYlBu',mask=vel3df<=0);\n",
    "plt.yticks(rotation=0);\n",
    "\n",
    "ripvels = plt.subplot(gs[3]);\n",
    "vel10df = pd.DataFrame(rip_10vel_counts / rip_counts, index=ExcursionWindows, columns=Thresholds)\n",
    "sns.heatmap(vel10df, linewidths=.05, xticklabels=2, yticklabels=2, vmax=0.5, cmap='RdYlBu',mask=vel10df<=0);\n",
    "plt.yticks(rotation=0);\n",
    "\n",
    "\n",
    "\n",
    "\n",
    "### Would like to add the fraction of ripples with greater than 3 cm/s velocity for each block\n",
    "### as a second degree of info...\n",
    "\n"
   ]
  },
  {
   "cell_type": "code",
   "execution_count": null,
   "metadata": {
    "collapsed": false
   },
   "outputs": [],
   "source": [
    "ripple_events, ripple_maxes, ripple_bounds, ripple_signal, ripple_envelope, smoothed_envelope = \\\n",
    "    ripples.detect(data, FS=FS, ThresholdSigma=5)\n",
    "\n",
    "gs = gridspec.GridSpec(1, 2); \n",
    "rip_positions = plt.subplot(gs[0]);\n",
    "plt.plot(pos[Day][Epoch].data[:,1], pos[Day][Epoch].data[:,2])\n",
    "rip_center_times = TimeAxis[np.rint((ripple_events[:,0] + ripple_events[:,1])/2).astype(int)]\n",
    "RipIdx = np.searchsorted(pos[Day][Epoch].data[:,0], rip_center_times)\n",
    "plt.plot(pos[Day][Epoch].data[RipIdx,1], pos[Day][Epoch].data[RipIdx,2],'ro')\n",
    "rip_speeds = plt.subplot(gs[1]);\n",
    "plt.plot(pos[Day][Epoch].data[:,0], pos[Day][Epoch].data[:,-1])\n",
    "rip_center_times = TimeAxis[np.rint((ripple_events[:,0] + ripple_events[:,1])/2).astype(int)]\n",
    "RipIdx = np.searchsorted(pos[Day][Epoch].data[:,0], rip_center_times)\n",
    "plt.plot(pos[Day][Epoch].data[RipIdx,0], pos[Day][Epoch].data[RipIdx,-1],'ro')\n",
    "\n",
    "\n"
   ]
  },
  {
   "cell_type": "code",
   "execution_count": null,
   "metadata": {
    "collapsed": false
   },
   "outputs": [],
   "source": [
    "plt.plot(TimeAxis, data)\n",
    "plt.plot(TimeAxis, ripple_signal)\n",
    "plt.plot(TimeAxis, ripple_envelope)\n",
    "plt.plot(pos[Day][Epoch].data[:,0],pos[Day][Epoch].data[:,-1])\n",
    "rip_bnds = np.zeros(len(data))\n",
    "for bnd in ripple_bounds:\n",
    "    rip_bnds[bnd[0]:bnd[1]] = 1;\n",
    "    \n",
    "plt.plot(TimeAxis, rip_bnds*3*np.std(ripple_envelope))\n",
    "plt.gca().set_xlim([TimeAxis[ripple_bounds[0,1]]-1,\n",
    "                    TimeAxis[ripple_bounds[0,1]]+1])\n"
   ]
  },
  {
   "cell_type": "code",
   "execution_count": null,
   "metadata": {
    "collapsed": false
   },
   "outputs": [],
   "source": [
    "import numpy as np\n",
    "import scipy.stats\n",
    "def generate_SWR(PeakLevel, ThresholdFraction=0.6, PeriodAboveThreshold=0.015, FS=30000, FRipple=200, nStdDevs=4, PhaseOffset=0) :\n",
    "    sigma = PeriodAboveThreshold/2 / np.sqrt(-2 * np.log(ThresholdFraction))\n",
    "    winSize = round(nStdDevs * sigma * FS)\n",
    "    t = np.arange(-winSize, winSize+1) / FS\n",
    "    envelope = scipy.stats.norm.pdf(t, 0, sigma)\n",
    "    envelope = (envelope/envelope.max()) * PeakLevel\n",
    "    carrier = np.sin(2*np.pi*FRipple*t + PhaseOffset) * envelope\n",
    "    return carrier, t, envelope\n",
    "\n",
    "\n",
    "PeriodAboveThreshold = np.mean(np.diff(ripple_events)) / FS\n",
    "Peak = np.mean(ripple_maxes)\n",
    "#ThresholdFraction = 3  * np.std(smoothed_envelope) / Peak\n",
    "ThresholdFraction = 5 / (Peak / np.std(smoothed_envelope))\n",
    "print((PeriodAboveThreshold, Peak, ThresholdFraction))\n",
    "\n",
    "x,t, _ = generate_SWR(Peak, ThresholdFraction=ThresholdFraction, PeriodAboveThreshold=PeriodAboveThreshold)\n",
    "\n",
    "plt.plot(t,x)\n",
    "x2,t, _ = generate_SWR(Peak, ThresholdFraction=ThresholdFraction, PeriodAboveThreshold=PeriodAboveThreshold, PhaseOffset=np.pi)\n",
    "plt.plot(t,x2)\n",
    "\n",
    "FakeRipLen = len(x)\n"
   ]
  },
  {
   "cell_type": "code",
   "execution_count": null,
   "metadata": {
    "collapsed": false
   },
   "outputs": [],
   "source": [
    "NRipsToAdd = len(ripple_maxes)\n",
    "PhaseOffsets = np.random.rand(NRipsToAdd)*2*np.pi\n",
    "EdgeExclude = FS*10\n",
    "RippleInsertionIdx = np.rint(np.linspace(EdgeExclude, len(normal_equivalent_ripple) - EdgeExclude, NRipsToAdd))\n",
    "\n",
    "added_ripples = normal_equivalent_ripple.copy()\n",
    "for k in range(NRipsToAdd):\n",
    "    x,t, _ = generate_SWR(Peak, ThresholdFraction=ThresholdFraction, \n",
    "                          PeriodAboveThreshold=PeriodAboveThreshold,\n",
    "                          PhaseOffset=PhaseOffsets[k])\n",
    "    added_ripples[(np.rint(t * FS) + RippleInsertionIdx[k]).astype(int)] += x"
   ]
  },
  {
   "cell_type": "code",
   "execution_count": null,
   "metadata": {
    "collapsed": false
   },
   "outputs": [],
   "source": [
    "added_ripples.shape"
   ]
  },
  {
   "cell_type": "code",
   "execution_count": null,
   "metadata": {
    "collapsed": false
   },
   "outputs": [],
   "source": [
    "plt.figure()\n",
    "plt.plot(added_ripples)\n",
    "plt.show()"
   ]
  },
  {
   "cell_type": "code",
   "execution_count": null,
   "metadata": {
    "collapsed": false
   },
   "outputs": [],
   "source": [
    "fake_ripple_bounds, fake_ripple_maxes, fake_ripple_events, fake_ripple_data, fake_ripple_envelope, fake_smoothed_envelope = \\\n",
    "    ripples.detect(added_ripples, FS=FS, ThresholdSigma=3)"
   ]
  },
  {
   "cell_type": "code",
   "execution_count": null,
   "metadata": {
    "collapsed": false
   },
   "outputs": [],
   "source": [
    "print('Number of ripples injected: {:4d}. Number detected: {:4d}.'.format(NRipsToAdd, len(fake_ripple_maxes)))"
   ]
  },
  {
   "cell_type": "code",
   "execution_count": null,
   "metadata": {
    "collapsed": false
   },
   "outputs": [],
   "source": [
    "NRipsToAdd"
   ]
  },
  {
   "cell_type": "code",
   "execution_count": null,
   "metadata": {
    "collapsed": false
   },
   "outputs": [],
   "source": [
    "# Compare histogram of envelope of synthetic and real ripples\n",
    "# Notice that the distribution of the real ripple data has a long tail (corresponding to actual SWR!)\n",
    "bins=np.histogram(np.hstack((smoothed_envelope,fake_smoothed_envelope)), bins=500)[1]; #get the bin edges\n",
    "plt.hist(smoothed_envelope,bins);\n",
    "plt.hist(fake_smoothed_envelope, bins);\n",
    "plt.gca().set_yscale('log')"
   ]
  }
 ],
 "metadata": {
  "kernelspec": {
   "display_name": "Python 3",
   "language": "python",
   "name": "python3"
  },
  "language_info": {
   "codemirror_mode": {
    "name": "ipython",
    "version": 3
   },
   "file_extension": ".py",
   "mimetype": "text/x-python",
   "name": "python",
   "nbconvert_exporter": "python",
   "pygments_lexer": "ipython3",
   "version": "3.5.1"
  }
 },
 "nbformat": 4,
 "nbformat_minor": 0
}
