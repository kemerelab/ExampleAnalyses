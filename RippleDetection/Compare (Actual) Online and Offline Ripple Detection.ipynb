{
 "cells": [
  {
   "cell_type": "markdown",
   "metadata": {},
   "source": [
    "## Compare online ripple detection with emulated online detection (i.e., running a causal algorithm on saved data) and offline, non-causal detection.\n",
    "\n",
    "1. Import a `.mat` file which contains arrays corresponding to the LFP and the digital IO during ripple disruption.\n",
    "2. Detect ripples using the typical non-causal Hilbert transform approach\n",
    "3. Run the online detection algorithm on the data to find out when ripples would have been detected in best case.\n",
    "4. Compare the above results with what was actually detected."
   ]
  },
  {
   "cell_type": "code",
   "execution_count": 1,
   "metadata": {
    "collapsed": false
   },
   "outputs": [],
   "source": [
    "import scipy.signal as sp\n",
    "import numpy as np\n",
    "import matplotlib.pyplot as plt\n",
    "import scipy.io\n",
    "import os.path\n",
    "import scipy.ndimage\n",
    "from itertools import groupby\n",
    "from operator import itemgetter\n",
    "\n",
    "\n",
    "%matplotlib inline\n",
    "\n",
    "import seaborn as sns\n",
    "sns.set(rc={'figure.figsize': (12, 4),'lines.linewidth': 2, 'font.size': 18, 'axes.labelsize': 16, 'legend.fontsize': 12, 'ytick.labelsize': 12, 'xtick.labelsize': 12 })\n",
    "sns.set_style('white')\n",
    "\n",
    "\n",
    "\n"
   ]
  },
  {
   "cell_type": "code",
   "execution_count": 2,
   "metadata": {
    "collapsed": false
   },
   "outputs": [],
   "source": [
    "\n",
    "data = scipy.io.loadmat(os.path.join('SampleData/thresh4.mat'),\n",
    "                               struct_as_record=False, squeeze_me=True)\n"
   ]
  },
  {
   "cell_type": "code",
   "execution_count": 3,
   "metadata": {
    "collapsed": false
   },
   "outputs": [
    {
     "name": "stdout",
     "output_type": "stream",
     "text": [
      "<class 'numpy.ndarray'>\n"
     ]
    }
   ],
   "source": [
    "signal = data['out'].channelData\n",
    "print(type(signal))"
   ]
  },
  {
   "cell_type": "code",
   "execution_count": 4,
   "metadata": {
    "collapsed": true
   },
   "outputs": [],
   "source": [
    "channelData = data['digitalOut'].channelData"
   ]
  },
  {
   "cell_type": "code",
   "execution_count": 5,
   "metadata": {
    "collapsed": false
   },
   "outputs": [],
   "source": [
    "pulses = channelData[8].data"
   ]
  },
  {
   "cell_type": "code",
   "execution_count": 6,
   "metadata": {
    "collapsed": false
   },
   "outputs": [],
   "source": [
    "ts = data['out'].timestamps"
   ]
  },
  {
   "cell_type": "code",
   "execution_count": 7,
   "metadata": {
    "collapsed": true
   },
   "outputs": [],
   "source": [
    "FS = 30000"
   ]
  },
  {
   "cell_type": "code",
   "execution_count": 8,
   "metadata": {
    "collapsed": false
   },
   "outputs": [
    {
     "data": {
      "image/png": "[encoded data removed]",
      "text/plain": [
       "<matplotlib.figure.Figure at 0x1172cab38>"
      ]
     },
     "metadata": {},
     "output_type": "display_data"
    }
   ],
   "source": [
    "plt.plot(ts,signal)\n",
    "plt.plot(ts,pulses*200)\n",
    "plt.gca().set_xlim([48,51])\n",
    "plt.show()"
   ]
  },
  {
   "cell_type": "code",
   "execution_count": 9,
   "metadata": {
    "collapsed": false
   },
   "outputs": [],
   "source": [
    "pulseidx = np.argwhere(np.diff(pulses.astype(np.int8))==1)"
   ]
  },
  {
   "cell_type": "code",
   "execution_count": 10,
   "metadata": {
    "collapsed": false
   },
   "outputs": [
    {
     "data": {
      "text/plain": [
       "array([1], dtype=uint8)"
      ]
     },
     "execution_count": 10,
     "metadata": {},
     "output_type": "execute_result"
    }
   ],
   "source": [
    "pulses[pulseidx[0]+1]"
   ]
  },
  {
   "cell_type": "code",
   "execution_count": 11,
   "metadata": {
    "collapsed": false
   },
   "outputs": [
    {
     "data": {
      "text/plain": [
       "30000.000011793873"
      ]
     },
     "execution_count": 11,
     "metadata": {},
     "output_type": "execute_result"
    }
   ],
   "source": [
    "1/(ts[1]-ts[0])"
   ]
  },
  {
   "cell_type": "code",
   "execution_count": 12,
   "metadata": {
    "collapsed": true
   },
   "outputs": [],
   "source": [
    "\n",
    "def find_threshold_crossing_events(x, threshold) :\n",
    "    above_threshold = np.where(x > threshold, 1, 0);\n",
    "    eventlist = []\n",
    "    eventmax = []\n",
    "    for k,v in groupby(enumerate(above_threshold),key=itemgetter(1)):\n",
    "        if k:\n",
    "            v = list(v)\n",
    "            eventlist.append([v[0][0],v[-1][0]])\n",
    "            try :\n",
    "                eventmax.append(x[v[0][0]:(v[-1][0]+1)].max())\n",
    "            except :\n",
    "                print(v, x[v[0][0]:v[-1][0]])\n",
    "\n",
    "    eventmax = np.asarray(eventmax)\n",
    "    eventlist = np.asarray(eventlist)\n",
    "    return eventlist, eventmax\n",
    "\n",
    "def offline_ripple_detect(lfp, FS=1500, ThresholdSigma=3, SecondaryThresholdSigma=0, LengthCriteria=0.015):\n",
    "    #  (1) filter 150-250\n",
    "    #  (2) hilbert envelope\n",
    "    #  (3) smooth with Gaussian (4 ms SD)\n",
    "    #  (4) 3SD above the mean for 15 ms\n",
    "    #  (5) full ripple defined as window back to mean\n",
    "\n",
    "\n",
    "    # Generate filter for detection\n",
    "    b = sp.firwin(25, [150/(FS/2), 250/(FS/2)], pass_zero=False)\n",
    "    print(type(lfp))\n",
    "    # Filter raw data to get ripple data\n",
    "    ripple_data = sp.filtfilt(b,1,lfp)\n",
    "    # Use hilbert transform to get an envelope\n",
    "    ripple_envelope = np.absolute(sp.hilbert(ripple_data))\n",
    "\n",
    "    # Smooth envelope with a gaussian\n",
    "    EnvelopeSmoothingSD = 0.004 * FS\n",
    "    smoothed_envelope = scipy.ndimage.filters.gaussian_filter1d(ripple_envelope, EnvelopeSmoothingSD, mode='constant')\n",
    "\n",
    "    # Find periods where value is > mean + ThresholdSigma*SD\n",
    "    Threshold = np.mean(smoothed_envelope) + ThresholdSigma*np.std(smoothed_envelope)\n",
    "    ripple_events, _ = find_threshold_crossing_events(smoothed_envelope, Threshold)\n",
    "\n",
    "    # Keep only events that are long enough (LengthCriteria s)\n",
    "    ripple_events = \\\n",
    "        ripple_events[ripple_events[:,1] - ripple_events[:,0] >= np.round(FS*LengthCriteria),:]\n",
    "\n",
    "\n",
    "    # Find periods where value is > SecondaryThreshold; note that the previous periods should be within these!\n",
    "    assert SecondaryThresholdSigma < ThresholdSigma, \"Secondary Threshold by definition should include more data than Primary Threshold\"\n",
    "    SecondaryThreshold = np.mean(smoothed_envelope) + SecondaryThresholdSigma * np.std(smoothed_envelope)\n",
    "    ripple_bounds, broader_maxes = find_threshold_crossing_events(smoothed_envelope, SecondaryThreshold)\n",
    "\n",
    "    # Find corresponding big windows for potential ripple events\n",
    "    #  Specifically, look for closest left edge that is just smaller\n",
    "    outer_boundary_indices = np.searchsorted(ripple_bounds[:,0], ripple_events[:,0]);\n",
    "    #  searchsorted finds the index after, so subtract one to get index before\n",
    "    outer_boundary_indices = outer_boundary_indices - 1;\n",
    "\n",
    "\n",
    "    # Find extended boundaries for ripple events by pairing to larger windows\n",
    "    #   (Note that there may be repeats if the larger window contains multiple > 3SD sections)\n",
    "    ripple_bounds = ripple_bounds[outer_boundary_indices,:]\n",
    "    ripple_maxes = broader_maxes[outer_boundary_indices]\n",
    "\n",
    "    # Now, since all that we care about are the larger windows, so we should get rid of repeats\n",
    "    _, unique_idx = np.unique(ripple_bounds[:,0], return_index=True)\n",
    "    ripple_bounds = ripple_bounds[unique_idx,:]\n",
    "    ripple_maxes = ripple_maxes[unique_idx]\n",
    "    ripple_events = ripple_events[unique_idx,:]\n",
    "\n",
    "    return ripple_bounds, ripple_maxes, ripple_events, ripple_data, ripple_envelope, smoothed_envelope\n"
   ]
  },
  {
   "cell_type": "code",
   "execution_count": 13,
   "metadata": {
    "collapsed": false
   },
   "outputs": [
    {
     "name": "stdout",
     "output_type": "stream",
     "text": [
      "<class 'numpy.ndarray'>\n",
      "<class 'numpy.ndarray'>\n"
     ]
    }
   ],
   "source": [
    "Threshold = 3.5 # standard deviations above the mean\n",
    "print(type(signal))\n",
    "ripple_events, ripple_maxes, ripple_bounds, ripple_signal, ripple_envelope, smoothed_envelope = \\\n",
    "    offline_ripple_detect(signal, FS=30000, ThresholdSigma=Threshold)\n",
    "\n",
    "\n"
   ]
  },
  {
   "cell_type": "code",
   "execution_count": 14,
   "metadata": {
    "collapsed": true
   },
   "outputs": [],
   "source": [
    "# This function does its best to match up \"actual\" ripples -- i.e., either gold standard or as detected by a \"perfect algorithm\"\n",
    "#  with puttative ripples. The LargestLatency is the farthest distance (in samples) between an actual event and a putative one.\n",
    "# \n",
    "# Flags:\n",
    "#   AllowNonCausal - If \"True\", putative events can happen before actual ones (i.e., all distances are absolute value minima)\n",
    "#   MaskLockouts - If \"True\", count as missed events that occur during the lockout period of a previous putative event. \n",
    "#                  For ease of use, we assume that the LockoutPeriod and the LargestLatency are the same.\n",
    "#\n",
    "\n",
    "def evaluate_ripple_detection(ActualEvents, PutativeEvents, LargestLatency, AllowNonCausal=False, MaskLockouts=True):\n",
    "    if (AllowNonCausal):\n",
    "        PotentialFalsePositives  = np.array([ActualEvents[k] for k in map(lambda x: (np.abs(ActualEvents - x)).argmin(), PutativeEvents)])\n",
    "        FalsePositives = np.argwhere(np.abs(PutativeEvents - PotentialFalsePositives) > LargestLatency).squeeze()\n",
    "        TruePositives = np.argwhere(np.abs(PutativeEvents - PotentialFalsePositives) <= LargestLatency).squeeze()\n",
    "        \n",
    "        # Get rid of repeats\n",
    "        uniques, counts = np.unique(PotentialFalsePositives[TruePositives], return_counts=True)\n",
    "        Mask = np.ones(TruePositives.shape,dtype=bool)\n",
    "        for i, u in enumerate(uniques):\n",
    "            if(counts[i] > 1):\n",
    "                repeat_idx = np.argwhere(PotentialFalsePositives[TruePositives] == u).squeeze()\n",
    "                best = np.abs(PotentialFalsePositives[TruePositives[repeat_idx]] - PutativeEvents[TruePositives[repeat_idx]]).argmin()\n",
    "                repeat_idx = np.delete(repeat_idx, best)\n",
    "                Mask[repeat_idx] = False          \n",
    "        FalsePositives = np.append(FalsePositives,TruePositives[~Mask])\n",
    "        TruePositives = TruePositives[Mask]\n",
    "\n",
    "\n",
    "        PotentialMisses = np.array([PutativeEvents[k] for k in map(lambda x: (np.abs(PutativeEvents - x)).argmin(), ActualEvents)])\n",
    "        Misses = np.argwhere(np.abs(ActualEvents - PotentialMisses) > LargestLatency)\n",
    "    else:\n",
    "        PotentialFalsePositives  = np.array([ActualEvents[k] for k in map(lambda x: np.where((x - ActualEvents) >= 0, (x - ActualEvents), np.infty).argmin(), PutativeEvents)])\n",
    "        FalsePositives = np.argwhere((PutativeEvents - PotentialFalsePositives > LargestLatency) | \n",
    "                                     (PutativeEvents - PotentialFalsePositives < 0)).squeeze()\n",
    "        TruePositives = np.argwhere((PutativeEvents - PotentialFalsePositives <= LargestLatency) &\n",
    "                                    (PutativeEvents - PotentialFalsePositives > 0)).squeeze()\n",
    "        \n",
    "        # Get rid of repeats\n",
    "        uniques, counts = np.unique(PotentialFalsePositives[TruePositives], return_counts=True)\n",
    "        Mask = np.ones(TruePositives.shape,dtype=bool)\n",
    "        for i, u in enumerate(uniques):\n",
    "            if(counts[i] > 1):\n",
    "                repeat_idx = np.argwhere(PotentialFalsePositives[TruePositives] == u).squeeze()\n",
    "                best = (PutativeEvents[TruePositives[repeat_idx]] - PotentialFalsePositives[TruePositives[repeat_idx]]).argmin()\n",
    "                repeat_idx = np.delete(repeat_idx, best)\n",
    "                Mask[repeat_idx] = False          \n",
    "        FalsePositives = np.append(FalsePositives,TruePositives[~Mask])\n",
    "        TruePositives = TruePositives[Mask]\n",
    "        \n",
    "        # Potentially look for lockout periods that might have blocked detection (in low threshold cases)\n",
    "        # Assuming LockoutPeriod and LargestLatency are the same!!!!!\n",
    "        if (MaskLockouts):\n",
    "            Mask = np.ones(TruePositives.shape,dtype=bool)\n",
    "            for idx,k in enumerate(TruePositives):\n",
    "                if (k > 0):\n",
    "                    # Flag events where the previous putative event was within a lockout period of the actual event\n",
    "                    if ((PotentialFalsePositives[k] - PutativeEvents[k - 1]) < LargestLatency) :\n",
    "                        Mask[idx] = False\n",
    "            FalsePositives = np.append(FalsePositives,TruePositives[~Mask])\n",
    "            TruePositives = TruePositives[Mask]\n",
    "\n",
    "        PotentialMisses = np.array([PutativeEvents[k] for k in map(lambda x: (np.where(PutativeEvents - x >= 0, PutativeEvents - x, np.infty)).argmin(), ActualEvents)])\n",
    "        Misses = np.argwhere(PotentialMisses - ActualEvents > LargestLatency).squeeze()\n",
    "\n",
    "    Latencies = PutativeEvents[TruePositives] - PotentialFalsePositives[TruePositives]\n",
    "    \n",
    "    return FalsePositives, TruePositives, Latencies, Misses\n",
    "\n"
   ]
  },
  {
   "cell_type": "code",
   "execution_count": 15,
   "metadata": {
    "collapsed": false
   },
   "outputs": [
    {
     "data": {
      "text/plain": [
       "(35, 2)"
      ]
     },
     "execution_count": 15,
     "metadata": {},
     "output_type": "execute_result"
    }
   ],
   "source": [
    "ripple_events.shape"
   ]
  },
  {
   "cell_type": "code",
   "execution_count": 16,
   "metadata": {
    "collapsed": false
   },
   "outputs": [
    {
     "name": "stdout",
     "output_type": "stream",
     "text": [
      "0.0524104761905\n",
      "(35,)\n"
     ]
    }
   ],
   "source": [
    "falsepositives, truepositives, latencies, _ = \\\n",
    "    evaluate_ripple_detection(ripple_events[:,0],pulseidx.squeeze()+1,30000*0.25,MaskLockouts=False)\n",
    "\n",
    "print(latencies.mean()/30000)\n",
    "print(truepositives.shape)"
   ]
  },
  {
   "cell_type": "code",
   "execution_count": 17,
   "metadata": {
    "collapsed": false
   },
   "outputs": [
    {
     "data": {
      "text/plain": [
       "771.0"
      ]
     },
     "execution_count": 17,
     "metadata": {},
     "output_type": "execute_result"
    }
   ],
   "source": [
    "np.median(ripple_bounds[:,0] - ripple_events[:,0])"
   ]
  },
  {
   "cell_type": "code",
   "execution_count": 18,
   "metadata": {
    "collapsed": false
   },
   "outputs": [],
   "source": [
    "def ripple_processor(data, FS=1500, TrainingPeriod=120*FS, ThresholdSigma=4, LockoutPeriod=0.25*FS, Algorithm=\"unsmooth\"):\n",
    "    def find_events(d, Thresh, TrainBnd, LckPd):\n",
    "        events = np.argwhere(d > Thresh)\n",
    "        # get rid of events that happened during training\n",
    "        events = events[events >= TrainBnd]\n",
    "        # get rid of events which lie within the Lockout period of previous events\n",
    "        mask = np.ones(len(events), dtype=bool)\n",
    "        last = -LckPd -1\n",
    "        for k, ev in enumerate(events):\n",
    "            if (ev < last + LckPd):\n",
    "                mask[k] = False\n",
    "            else:\n",
    "                last = ev\n",
    "        events = events[mask]\n",
    "        return events\n",
    "\n",
    "    TrBnd = np.rint(TrainingPeriod).astype(int)\n",
    "    LckPd = np.rint(LockoutPeriod)\n",
    "    b, a = sp.butter(4, [150/(FS/2), 250/(FS/2)], btype='bandpass')\n",
    "    ripple_band = sp.lfilter(b, a, data) # causal fitler of signal\n",
    "    \n",
    "    if (Algorithm.lower()==\"unsmooth\"):\n",
    "        ripple_signal = np.abs(ripple_band)\n",
    "        mu = np.mean(ripple_signal[:TrBnd])\n",
    "        sd = np.std(ripple_signal[:TrBnd])\n",
    "        ripple_events = find_events(ripple_signal, mu + ThresholdSigma*sd, TrBnd, LckPd)\n",
    "    \n",
    "    elif (Algorithm.lower()==\"smooth\"):\n",
    "        bsmooth, asmooth = sp.butter(2, 50/(FS/2), btype='lowpass')\n",
    "        ripple_signal = sp.lfilter(bsmooth, asmooth, np.abs(ripple_band)) #smooth it\n",
    "        mu = np.mean(ripple_signal[:TrBnd])\n",
    "        sd = np.std(ripple_signal[:TrBnd])\n",
    "        ripple_events = find_events(ripple_signal, mu + ThresholdSigma*sd, TrBnd, LckPd)\n",
    "        \n",
    "    elif (Algorithm.lower()==\"hbt\"):\n",
    "        g = np.zeros(20)\n",
    "        gptr = 0\n",
    "        last_stim = 0\n",
    "        def updateGain(d, g, gptr):\n",
    "            mn = g.mean()\n",
    "            g[gptr] = d\n",
    "            gptr = gptr + 1 if (gptr < 19) else 0\n",
    "            return mn, g, gptr\n",
    "        \n",
    "        mu = 0\n",
    "        sd = 0\n",
    "        ripple_events = []\n",
    "        v = np.zeros(ripple_band.shape)\n",
    "        # Algorithm from Jadhav et al Science 2012\n",
    "        for k, x in enumerate(ripple_band):\n",
    "            if (k > 0):\n",
    "                df = x - v[k-1]\n",
    "            else:\n",
    "                df = x\n",
    "\n",
    "            if (df > 0):\n",
    "                gain, g, gptr = updateGain(1.2, g, gptr)\n",
    "                v[k] = v[k-1] + gain * df\n",
    "            else:\n",
    "                _, g, gptr = updateGain(2.0, g, gptr)\n",
    "                v[k] = v[k-1] + 2.0 * df\n",
    "                \n",
    "            mu = mu + (x - mu) / 10000\n",
    "            sd = (np.abs(x - mu) - sd) / 10000 + sd\n",
    "            if ((k > TrBnd) & ((k-last_stim) > LckPd)) :\n",
    "                if (v[k] > mu + ThresholdSigma*sd) :\n",
    "                    ripple_events.append(k)\n",
    "                    last_stim = k\n",
    "        ripple_events = np.array(ripple_events)\n",
    "        ripple_signal = v\n",
    "    else:\n",
    "        raise ValueError(\"Unknown algorithm specified\")\n",
    "    \n",
    "    return ripple_events, ripple_signal, mu, sd, ripple_band\n"
   ]
  },
  {
   "cell_type": "code",
   "execution_count": 19,
   "metadata": {
    "collapsed": true
   },
   "outputs": [],
   "source": [
    "rip_evs, _, _, _, _ = ripple_processor(signal, FS=30000, Algorithm='smooth', TrainingPeriod=60*30000)"
   ]
  },
  {
   "cell_type": "code",
   "execution_count": 20,
   "metadata": {
    "collapsed": false
   },
   "outputs": [
    {
     "name": "stdout",
     "output_type": "stream",
     "text": [
      "0.0409866666667\n",
      "(25,)\n"
     ]
    }
   ],
   "source": [
    "fp2, tp2, lat2, _ = evaluate_ripple_detection(ripple_events[:,0],rip_evs,30000*0.25,MaskLockouts=False)\n",
    "\n",
    "print(lat2.mean()/30000)\n",
    "print(tp2.shape)"
   ]
  },
  {
   "cell_type": "code",
   "execution_count": 25,
   "metadata": {
    "collapsed": false
   },
   "outputs": [
    {
     "data": {
      "image/png": "[encoded data removed]",
      "text/plain": [
       "<matplotlib.figure.Figure at 0x103244390>"
      ]
     },
     "metadata": {},
     "output_type": "display_data"
    }
   ],
   "source": [
    "bins = (np.arange(0,200,10)-5)/1000\n",
    "hist, _ = np.histogram(latencies/30000, bins=bins)\n",
    "width = 0.4 * (bins[1] - bins[0])\n",
    "center = (bins[:-1] + bins[1:]) / 2\n",
    "\n",
    "hist2, _ = np.histogram(lat2/30000, bins=bins)\n",
    "\n",
    "sns.set(rc={'figure.figsize': (12, 6),'lines.linewidth': 2, 'font.size': 18, 'axes.labelsize': 16, 'legend.fontsize': 16, 'ytick.labelsize': 12, 'xtick.labelsize': 12 })\n",
    "sns.set_style('white')\n",
    "\n",
    "plt.bar(center*1000, hist2, align='edge', width=width*1000, label='Simulated')\n",
    "plt.bar(center*1000, hist, align='edge', width=-width*1000, color='r', label='Measured')\n",
    "plt.plot(np.median(ripple_bounds[:,0] - ripple_events[:,0])*np.ones(2)*1000/30000, [0, 10], 'k--')\n",
    "plt.gca().set_xlabel('Latency (ms)')\n",
    "plt.gca().set_xlim([0, 100])\n",
    "plt.legend()\n",
    "plt.show()\n"
   ]
  }
 ],
 "metadata": {
  "kernelspec": {
   "display_name": "Python 3",
   "language": "python",
   "name": "python3"
  },
  "language_info": {
   "codemirror_mode": {
    "name": "ipython",
    "version": 3
   },
   "file_extension": ".py",
   "mimetype": "text/x-python",
   "name": "python",
   "nbconvert_exporter": "python",
   "pygments_lexer": "ipython3",
   "version": "3.5.1"
  }
 },
 "nbformat": 4,
 "nbformat_minor": 0
}
